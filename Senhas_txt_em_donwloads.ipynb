{
  "nbformat": 4,
  "nbformat_minor": 0,
  "metadata": {
    "colab": {
      "provenance": []
    },
    "kernelspec": {
      "name": "python3",
      "display_name": "Python 3"
    },
    "language_info": {
      "name": "python"
    }
  },
  "cells": [
    {
      "cell_type": "code",
      "execution_count": null,
      "metadata": {
        "id": "oFdaEPwPMRQ8",
        "colab": {
          "base_uri": "https://localhost:8080/"
        },
        "outputId": "156dc784-a5eb-48aa-e418-2c254611d4ec"
      },
      "outputs": [
        {
          "output_type": "stream",
          "name": "stdout",
          "text": [
            "O arquivo senhas.txt foi salvo em C:\\Users\\User\\Downloads\n"
          ]
        }
      ],
      "source": [
        "##Salvando no Notebook do colab\n",
        "\n",
        "import os\n",
        "from random import choice\n",
        "import string\n",
        "import re\n",
        "\n",
        "def gerar_senha():\n",
        "    senha_valida = False\n",
        "    caracteres = string.ascii_letters + string.digits + string.punctuation\n",
        "\n",
        "    while not senha_valida:\n",
        "        senha_gerada = ''.join(choice(caracteres) for _ in range(12))\n",
        "        if (len(senha_gerada) > 11 and\n",
        "            re.search(\"[a-z]\", senha_gerada) and\n",
        "            re.search(\"[A-Z]\", senha_gerada) and\n",
        "            re.search(\"[0-9]\", senha_gerada) and\n",
        "            re.search(\"[!@#$%^&*()_+]\", senha_gerada)):\n",
        "            senha_valida = True\n",
        "            return senha_gerada\n",
        "\n",
        "senhas = []\n",
        "\n",
        "for _ in range(200):\n",
        "    senhas.append(gerar_senha())\n",
        "\n",
        "caminho_pasta = r'C:\\Users\\User\\Downloads'\n",
        "\n",
        "# Verifica se o diretório existe, se não, cria\n",
        "if not os.path.exists(caminho_pasta):\n",
        "    os.makedirs(caminho_pasta)\n",
        "\n",
        "caminho_arquivo = os.path.join(caminho_pasta, 'senhas.txt')\n",
        "\n",
        "with open(caminho_arquivo, 'w') as arquivo:\n",
        "    for senha in senhas:\n",
        "        arquivo.write(senha + '\\n')\n",
        "\n",
        "print(f'O arquivo senhas.txt foi salvo em {caminho_pasta}')\n"
      ]
    },
    {
      "cell_type": "code",
      "source": [
        "## Salvando na pasta do computador\n",
        "\n",
        "from google.colab import files\n",
        "import os\n",
        "from random import choice\n",
        "import string\n",
        "import re\n",
        "\n",
        "def gerar_senha():\n",
        "    senha_valida = False\n",
        "    caracteres = string.ascii_letters + string.digits + string.punctuation\n",
        "\n",
        "    while not senha_valida:\n",
        "        senha_gerada = ''.join(choice(caracteres) for _ in range(12))\n",
        "        if (len(senha_gerada) > 11 and\n",
        "            re.search(\"[a-z]\", senha_gerada) and\n",
        "            re.search(\"[A-Z]\", senha_gerada) and\n",
        "            re.search(\"[0-9]\", senha_gerada) and\n",
        "            re.search(\"[!@#$%^&*()_+]\", senha_gerada)):\n",
        "            senha_valida = True\n",
        "            return senha_gerada\n",
        "\n",
        "senhas = []\n",
        "\n",
        "for _ in range(200):\n",
        "    senhas.append(gerar_senha())\n",
        "\n",
        "# Criar o arquivo senhas.txt no diretório temporário do Colab\n",
        "caminho_arquivo = '/content/senhas.txt'\n",
        "\n",
        "with open(caminho_arquivo, 'w') as arquivo:\n",
        "    for senha in senhas:\n",
        "        arquivo.write(senha + '\\n')\n",
        "\n",
        "# Solicitar permissões para o usuário baixar o arquivo\n",
        "files.download(caminho_arquivo)\n"
      ],
      "metadata": {
        "colab": {
          "base_uri": "https://localhost:8080/",
          "height": 17
        },
        "id": "Z9STj-UyNrXX",
        "outputId": "2e3e2e4d-30ef-4692-9b18-ac6c25d95edf"
      },
      "execution_count": null,
      "outputs": [
        {
          "output_type": "display_data",
          "data": {
            "text/plain": [
              "<IPython.core.display.Javascript object>"
            ],
            "application/javascript": [
              "\n",
              "    async function download(id, filename, size) {\n",
              "      if (!google.colab.kernel.accessAllowed) {\n",
              "        return;\n",
              "      }\n",
              "      const div = document.createElement('div');\n",
              "      const label = document.createElement('label');\n",
              "      label.textContent = `Downloading \"${filename}\": `;\n",
              "      div.appendChild(label);\n",
              "      const progress = document.createElement('progress');\n",
              "      progress.max = size;\n",
              "      div.appendChild(progress);\n",
              "      document.body.appendChild(div);\n",
              "\n",
              "      const buffers = [];\n",
              "      let downloaded = 0;\n",
              "\n",
              "      const channel = await google.colab.kernel.comms.open(id);\n",
              "      // Send a message to notify the kernel that we're ready.\n",
              "      channel.send({})\n",
              "\n",
              "      for await (const message of channel.messages) {\n",
              "        // Send a message to notify the kernel that we're ready.\n",
              "        channel.send({})\n",
              "        if (message.buffers) {\n",
              "          for (const buffer of message.buffers) {\n",
              "            buffers.push(buffer);\n",
              "            downloaded += buffer.byteLength;\n",
              "            progress.value = downloaded;\n",
              "          }\n",
              "        }\n",
              "      }\n",
              "      const blob = new Blob(buffers, {type: 'application/binary'});\n",
              "      const a = document.createElement('a');\n",
              "      a.href = window.URL.createObjectURL(blob);\n",
              "      a.download = filename;\n",
              "      div.appendChild(a);\n",
              "      a.click();\n",
              "      div.remove();\n",
              "    }\n",
              "  "
            ]
          },
          "metadata": {}
        },
        {
          "output_type": "display_data",
          "data": {
            "text/plain": [
              "<IPython.core.display.Javascript object>"
            ],
            "application/javascript": [
              "download(\"download_13f69669-fdee-4eca-a1e7-93b4adcece0c\", \"senhas.txt\", 2600)"
            ]
          },
          "metadata": {}
        }
      ]
    }
  ]
}